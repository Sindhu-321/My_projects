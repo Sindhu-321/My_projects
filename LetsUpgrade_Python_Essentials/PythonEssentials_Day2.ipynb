{
 "cells": [
  {
   "cell_type": "code",
   "execution_count": 2,
   "metadata": {},
   "outputs": [
    {
     "name": "stdout",
     "output_type": "stream",
     "text": [
      "6000\n",
      "Turn Around\n"
     ]
    }
   ],
   "source": [
    "alt = int(input())\n",
    "\n",
    "if alt<=1000:\n",
    "    print(\"Safe To Land\")\n",
    "elif alt>1000 and alt<5000:\n",
    "    print(\"Bring down to 100\")\n",
    "else :\n",
    "    print(\"Turn Around\")\n",
    "\n",
    "    "
   ]
  },
  {
   "cell_type": "code",
   "execution_count": null,
   "metadata": {},
   "outputs": [],
   "source": []
  }
 ],
 "metadata": {
  "kernelspec": {
   "display_name": "Python 3",
   "language": "python",
   "name": "python3"
  },
  "language_info": {
   "codemirror_mode": {
    "name": "ipython",
    "version": 3
   },
   "file_extension": ".py",
   "mimetype": "text/x-python",
   "name": "python",
   "nbconvert_exporter": "python",
   "pygments_lexer": "ipython3",
   "version": "3.8.5"
  }
 },
 "nbformat": 4,
 "nbformat_minor": 4
}
